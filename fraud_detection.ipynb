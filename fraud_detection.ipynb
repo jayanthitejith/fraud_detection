{
 "cells": [
  {
   "cell_type": "markdown",
   "metadata": {},
   "source": [
    "# Fraud Detection"
   ]
  },
  {
   "cell_type": "code",
   "execution_count": 31,
   "metadata": {},
   "outputs": [],
   "source": [
    "import pandas as pd\n",
    "import numpy as np\n",
    "import matplotlib.pyplot as plt\n",
    "import seaborn as sns\n",
    "from scipy.stats import norm"
   ]
  },
  {
   "cell_type": "code",
   "execution_count": 4,
   "metadata": {},
   "outputs": [
    {
     "data": {
      "text/html": [
       "<div>\n",
       "<style scoped>\n",
       "    .dataframe tbody tr th:only-of-type {\n",
       "        vertical-align: middle;\n",
       "    }\n",
       "\n",
       "    .dataframe tbody tr th {\n",
       "        vertical-align: top;\n",
       "    }\n",
       "\n",
       "    .dataframe thead th {\n",
       "        text-align: right;\n",
       "    }\n",
       "</style>\n",
       "<table border=\"1\" class=\"dataframe\">\n",
       "  <thead>\n",
       "    <tr style=\"text-align: right;\">\n",
       "      <th></th>\n",
       "      <th>step</th>\n",
       "      <th>type</th>\n",
       "      <th>amount</th>\n",
       "      <th>nameOrig</th>\n",
       "      <th>oldbalanceOrg</th>\n",
       "      <th>newbalanceOrig</th>\n",
       "      <th>nameDest</th>\n",
       "      <th>oldbalanceDest</th>\n",
       "      <th>newbalanceDest</th>\n",
       "      <th>isFraud</th>\n",
       "      <th>isFlaggedFraud</th>\n",
       "    </tr>\n",
       "  </thead>\n",
       "  <tbody>\n",
       "    <tr>\n",
       "      <th>0</th>\n",
       "      <td>1</td>\n",
       "      <td>PAYMENT</td>\n",
       "      <td>9839.64</td>\n",
       "      <td>C1231006815</td>\n",
       "      <td>170136.0</td>\n",
       "      <td>160296.36</td>\n",
       "      <td>M1979787155</td>\n",
       "      <td>0.0</td>\n",
       "      <td>0.0</td>\n",
       "      <td>0</td>\n",
       "      <td>0</td>\n",
       "    </tr>\n",
       "    <tr>\n",
       "      <th>1</th>\n",
       "      <td>1</td>\n",
       "      <td>PAYMENT</td>\n",
       "      <td>1864.28</td>\n",
       "      <td>C1666544295</td>\n",
       "      <td>21249.0</td>\n",
       "      <td>19384.72</td>\n",
       "      <td>M2044282225</td>\n",
       "      <td>0.0</td>\n",
       "      <td>0.0</td>\n",
       "      <td>0</td>\n",
       "      <td>0</td>\n",
       "    </tr>\n",
       "    <tr>\n",
       "      <th>2</th>\n",
       "      <td>1</td>\n",
       "      <td>TRANSFER</td>\n",
       "      <td>181.00</td>\n",
       "      <td>C1305486145</td>\n",
       "      <td>181.0</td>\n",
       "      <td>0.00</td>\n",
       "      <td>C553264065</td>\n",
       "      <td>0.0</td>\n",
       "      <td>0.0</td>\n",
       "      <td>1</td>\n",
       "      <td>0</td>\n",
       "    </tr>\n",
       "    <tr>\n",
       "      <th>3</th>\n",
       "      <td>1</td>\n",
       "      <td>CASH_OUT</td>\n",
       "      <td>181.00</td>\n",
       "      <td>C840083671</td>\n",
       "      <td>181.0</td>\n",
       "      <td>0.00</td>\n",
       "      <td>C38997010</td>\n",
       "      <td>21182.0</td>\n",
       "      <td>0.0</td>\n",
       "      <td>1</td>\n",
       "      <td>0</td>\n",
       "    </tr>\n",
       "    <tr>\n",
       "      <th>4</th>\n",
       "      <td>1</td>\n",
       "      <td>PAYMENT</td>\n",
       "      <td>11668.14</td>\n",
       "      <td>C2048537720</td>\n",
       "      <td>41554.0</td>\n",
       "      <td>29885.86</td>\n",
       "      <td>M1230701703</td>\n",
       "      <td>0.0</td>\n",
       "      <td>0.0</td>\n",
       "      <td>0</td>\n",
       "      <td>0</td>\n",
       "    </tr>\n",
       "  </tbody>\n",
       "</table>\n",
       "</div>"
      ],
      "text/plain": [
       "   step      type    amount     nameOrig  oldbalanceOrg  newbalanceOrig  \\\n",
       "0     1   PAYMENT   9839.64  C1231006815       170136.0       160296.36   \n",
       "1     1   PAYMENT   1864.28  C1666544295        21249.0        19384.72   \n",
       "2     1  TRANSFER    181.00  C1305486145          181.0            0.00   \n",
       "3     1  CASH_OUT    181.00   C840083671          181.0            0.00   \n",
       "4     1   PAYMENT  11668.14  C2048537720        41554.0        29885.86   \n",
       "\n",
       "      nameDest  oldbalanceDest  newbalanceDest  isFraud  isFlaggedFraud  \n",
       "0  M1979787155             0.0             0.0        0               0  \n",
       "1  M2044282225             0.0             0.0        0               0  \n",
       "2   C553264065             0.0             0.0        1               0  \n",
       "3    C38997010         21182.0             0.0        1               0  \n",
       "4  M1230701703             0.0             0.0        0               0  "
      ]
     },
     "execution_count": 4,
     "metadata": {},
     "output_type": "execute_result"
    }
   ],
   "source": [
    "# data import\n",
    "data = pd.read_csv(r\"D:\\My-LIB\\Projects\\ML\\INSAID\\Data\\Fraud.csv\")\n",
    "data.head()"
   ]
  },
  {
   "cell_type": "code",
   "execution_count": 5,
   "metadata": {},
   "outputs": [
    {
     "data": {
      "text/plain": [
       "Index(['step', 'type', 'amount', 'nameOrig', 'oldbalanceOrg', 'newbalanceOrig',\n",
       "       'nameDest', 'oldbalanceDest', 'newbalanceDest', 'isFraud',\n",
       "       'isFlaggedFraud'],\n",
       "      dtype='object')"
      ]
     },
     "execution_count": 5,
     "metadata": {},
     "output_type": "execute_result"
    }
   ],
   "source": [
    "data.columns"
   ]
  },
  {
   "cell_type": "code",
   "execution_count": 10,
   "metadata": {},
   "outputs": [
    {
     "data": {
      "text/plain": [
       "step              0\n",
       "type              0\n",
       "amount            0\n",
       "nameOrig          0\n",
       "oldbalanceOrg     0\n",
       "newbalanceOrig    0\n",
       "nameDest          0\n",
       "oldbalanceDest    0\n",
       "newbalanceDest    0\n",
       "isFraud           0\n",
       "isFlaggedFraud    0\n",
       "dtype: int64"
      ]
     },
     "execution_count": 10,
     "metadata": {},
     "output_type": "execute_result"
    }
   ],
   "source": [
    "# finding null values\n",
    "data.isna().sum()"
   ]
  },
  {
   "cell_type": "code",
   "execution_count": 15,
   "metadata": {},
   "outputs": [
    {
     "data": {
      "text/plain": [
       "0    6354407\n",
       "1       8213\n",
       "Name: isFraud, dtype: int64"
      ]
     },
     "execution_count": 15,
     "metadata": {},
     "output_type": "execute_result"
    }
   ],
   "source": [
    "# counting the occurences of fraud or no fraud\n",
    "occurence = data['isFraud'].value_counts()\n",
    "occurence"
   ]
  },
  {
   "cell_type": "code",
   "execution_count": 17,
   "metadata": {},
   "outputs": [
    {
     "data": {
      "text/plain": [
       "0    0.998709\n",
       "1    0.001291\n",
       "Name: isFraud, dtype: float64"
      ]
     },
     "execution_count": 17,
     "metadata": {},
     "output_type": "execute_result"
    }
   ],
   "source": [
    "# printing the ratio of fraud cases\n",
    "fraud_ratio = occurence/len(data.index)\n",
    "fraud_ratio"
   ]
  },
  {
   "cell_type": "markdown",
   "metadata": {},
   "source": [
    "### From the above results the ratio of fraud to non fraud is less, which means unbalanced data"
   ]
  },
  {
   "cell_type": "code",
   "execution_count": 18,
   "metadata": {},
   "outputs": [
    {
     "data": {
      "text/plain": [
       "0    6362604\n",
       "1         16\n",
       "Name: isFlaggedFraud, dtype: int64"
      ]
     },
     "execution_count": 18,
     "metadata": {},
     "output_type": "execute_result"
    }
   ],
   "source": [
    "# counting the occurences of isFlaggedFraud and not flagged fraud\n",
    "occurence_F = data[\"isFlaggedFraud\"].value_counts()\n",
    "occurence_F"
   ]
  },
  {
   "cell_type": "code",
   "execution_count": 19,
   "metadata": {},
   "outputs": [
    {
     "data": {
      "text/plain": [
       "0    0.999997\n",
       "1    0.000003\n",
       "Name: isFlaggedFraud, dtype: float64"
      ]
     },
     "execution_count": 19,
     "metadata": {},
     "output_type": "execute_result"
    }
   ],
   "source": [
    "# ratio of the isFlaggedFraud and not flagged fraud\n",
    "flagged_ratio = occurence_F/len(data.index)\n",
    "flagged_ratio"
   ]
  },
  {
   "cell_type": "code",
   "execution_count": 21,
   "metadata": {},
   "outputs": [
    {
     "data": {
      "text/html": [
       "<div>\n",
       "<style scoped>\n",
       "    .dataframe tbody tr th:only-of-type {\n",
       "        vertical-align: middle;\n",
       "    }\n",
       "\n",
       "    .dataframe tbody tr th {\n",
       "        vertical-align: top;\n",
       "    }\n",
       "\n",
       "    .dataframe thead th {\n",
       "        text-align: right;\n",
       "    }\n",
       "</style>\n",
       "<table border=\"1\" class=\"dataframe\">\n",
       "  <thead>\n",
       "    <tr style=\"text-align: right;\">\n",
       "      <th></th>\n",
       "      <th>step</th>\n",
       "      <th>type</th>\n",
       "      <th>amount</th>\n",
       "      <th>nameOrig</th>\n",
       "      <th>oldbalanceOrg</th>\n",
       "      <th>newbalanceOrig</th>\n",
       "      <th>nameDest</th>\n",
       "      <th>oldbalanceDest</th>\n",
       "      <th>newbalanceDest</th>\n",
       "      <th>isFraud</th>\n",
       "      <th>isFlaggedFraud</th>\n",
       "    </tr>\n",
       "  </thead>\n",
       "  <tbody>\n",
       "    <tr>\n",
       "      <th>0</th>\n",
       "      <td>1</td>\n",
       "      <td>PAYMENT</td>\n",
       "      <td>9839.64</td>\n",
       "      <td>C1231006815</td>\n",
       "      <td>170136.0</td>\n",
       "      <td>160296.36</td>\n",
       "      <td>M1979787155</td>\n",
       "      <td>0.0</td>\n",
       "      <td>0.0</td>\n",
       "      <td>0</td>\n",
       "      <td>0</td>\n",
       "    </tr>\n",
       "    <tr>\n",
       "      <th>1</th>\n",
       "      <td>1</td>\n",
       "      <td>PAYMENT</td>\n",
       "      <td>1864.28</td>\n",
       "      <td>C1666544295</td>\n",
       "      <td>21249.0</td>\n",
       "      <td>19384.72</td>\n",
       "      <td>M2044282225</td>\n",
       "      <td>0.0</td>\n",
       "      <td>0.0</td>\n",
       "      <td>0</td>\n",
       "      <td>0</td>\n",
       "    </tr>\n",
       "  </tbody>\n",
       "</table>\n",
       "</div>"
      ],
      "text/plain": [
       "   step     type   amount     nameOrig  oldbalanceOrg  newbalanceOrig  \\\n",
       "0     1  PAYMENT  9839.64  C1231006815       170136.0       160296.36   \n",
       "1     1  PAYMENT  1864.28  C1666544295        21249.0        19384.72   \n",
       "\n",
       "      nameDest  oldbalanceDest  newbalanceDest  isFraud  isFlaggedFraud  \n",
       "0  M1979787155             0.0             0.0        0               0  \n",
       "1  M2044282225             0.0             0.0        0               0  "
      ]
     },
     "execution_count": 21,
     "metadata": {},
     "output_type": "execute_result"
    }
   ],
   "source": [
    "data.head(2)"
   ]
  },
  {
   "cell_type": "markdown",
   "metadata": {},
   "source": [
    "### By the above results it looks like the data is unbalanced for flagged fraud cases also"
   ]
  },
  {
   "cell_type": "code",
   "execution_count": 22,
   "metadata": {},
   "outputs": [
    {
     "data": {
      "text/plain": [
       "type\n",
       "CASH_IN     1399284\n",
       "CASH_OUT    2237500\n",
       "DEBIT         41432\n",
       "PAYMENT     2151495\n",
       "TRANSFER     532909\n",
       "Name: isFraud, dtype: int64"
      ]
     },
     "execution_count": 22,
     "metadata": {},
     "output_type": "execute_result"
    }
   ],
   "source": [
    "# calculating no.of frauds in each type\n",
    "fraud_type = data.groupby(\"type\")[\"isFraud\"].count()\n",
    "fraud_type"
   ]
  },
  {
   "cell_type": "code",
   "execution_count": 24,
   "metadata": {},
   "outputs": [
    {
     "data": {
      "text/plain": [
       "428"
      ]
     },
     "execution_count": 24,
     "metadata": {},
     "output_type": "execute_result"
    }
   ],
   "source": [
    "# checking the different types of steps involved in transactions\n",
    "steps = data[\"step\"].value_counts().nunique()\n",
    "steps"
   ]
  },
  {
   "cell_type": "code",
   "execution_count": 32,
   "metadata": {},
   "outputs": [
    {
     "data": {
      "image/png": "[encoded data removed]",
      "text/plain": [
       "<Figure size 1008x504 with 1 Axes>"
      ]
     },
     "metadata": {
      "needs_background": "light"
     },
     "output_type": "display_data"
    }
   ],
   "source": [
    "plt.rcParams['figure.figsize'] =(14, 7)\n",
    "sns.distplot(data.step, fit = norm, kde = False)\n",
    "plt.title('Distribution Plot for steps', fontsize = 20)\n",
    "plt.xlabel('Step', fontsize = 10)\n",
    "plt.show()"
   ]
  },
  {
   "cell_type": "code",
   "execution_count": 33,
   "metadata": {},
   "outputs": [
    {
     "data": {
      "text/plain": [
       "Text(0, 0.5, 'Counts')"
      ]
     },
     "execution_count": 33,
     "metadata": {},
     "output_type": "execute_result"
    },
    {
     "data": {
      "image/png": "[encoded data removed]",
      "text/plain": [
       "<Figure size 720x504 with 1 Axes>"
      ]
     },
     "metadata": {
      "needs_background": "light"
     },
     "output_type": "display_data"
    }
   ],
   "source": [
    "# checking the different values of amounts transactioned\n",
    "plt.rcParams[\"figure.figsize\"] = (10,7)\n",
    "data[\"amount\"].value_counts().head(20).plot.bar()\n",
    "plt.title(\"20 most transaction amounts\", fontsize=20)\n",
    "plt.xlabel(\"Amounts\")\n",
    "plt.ylabel(\"Counts\")"
   ]
  },
  {
   "cell_type": "code",
   "execution_count": 37,
   "metadata": {},
   "outputs": [
    {
     "name": "stderr",
     "output_type": "stream",
     "text": [
      "C:\\Users\\ratna\\anaconda3\\envs\\kaggle\\lib\\site-packages\\seaborn\\distributions.py:2619: FutureWarning: `distplot` is a deprecated function and will be removed in a future version. Please adapt your code to use either `displot` (a figure-level function with similar flexibility) or `histplot` (an axes-level function for histograms).\n",
      "  warnings.warn(msg, FutureWarning)\n"
     ]
    },
    {
     "data": {
      "image/png": "[encoded data removed]",
      "text/plain": [
       "<Figure size 720x504 with 1 Axes>"
      ]
     },
     "metadata": {
      "needs_background": "light"
     },
     "output_type": "display_data"
    }
   ],
   "source": [
    "#Distribution Plot for Amount\n",
    "ax = sns.distplot(data.amount)\n",
    "ax.set_title(label = 'Distribution Plot for Amount', fontsize = 20)\n",
    "ax.set_xlabel(xlabel = 'Amount', fontsize = 10)\n",
    "plt.show()"
   ]
  },
  {
   "cell_type": "markdown",
   "metadata": {},
   "source": [
    "### Finding where the most fraudlent transactions are from"
   ]
  },
  {
   "cell_type": "code",
   "execution_count": 46,
   "metadata": {},
   "outputs": [
    {
     "name": "stdout",
     "output_type": "stream",
     "text": [
      "The number of fraudulent TRANSFERs = 4097\n",
      "The number of fraudulent CASH_OUTs = 4116\n",
      "The number of fraudulent CASH_Ins = 0\n",
      "The number of fraudulent Debits = 0\n",
      "The number of fraudulent Payments = 0\n"
     ]
    }
   ],
   "source": [
    "FraudPayment = data.loc[(data.isFraud == 1) & (data.type == 'PAYMENT')]\n",
    "FraudTransfer = data.loc[(data.isFraud == 1) & (data.type == 'TRANSFER')]\n",
    "FraudCashout = data.loc[(data.isFraud == 1) & (data.type == 'CASH_OUT')]\n",
    "FraudCashin = data.loc[(data.isFraud == 1) & (data.type == 'CASH_IN')]\n",
    "Frauddebit = data.loc[(data.isFraud == 1) & (data.type == 'DEBIT')]\n",
    "\n",
    "print ('The number of fraudulent TRANSFERs = {}'.format(len(dfFraudTransfer)))\n",
    "print ('The number of fraudulent CASH_OUTs = {}'.format(len(dfFraudCashout)))\n",
    "print ('The number of fraudulent CASH_Ins = {}'.format(len(dfFraudCashin)))\n",
    "print ('The number of fraudulent Debits = {}'.format(len(dfFrauddebit)))\n",
    "print ('The number of fraudulent Payments = {}'.format(len(dfFraudPayment)))"
   ]
  },
  {
   "cell_type": "markdown",
   "metadata": {},
   "source": [
    "### From the above results most of the fraudulent transactions are from TRANSFERS and CASH_OUTS"
   ]
  },
  {
   "cell_type": "code",
   "execution_count": 47,
   "metadata": {},
   "outputs": [
    {
     "name": "stdout",
     "output_type": "stream",
     "text": [
      "Transfer Transaction\n",
      "Minimum Transaction : 63.8\n",
      "Maximum Transaction : 10000000.0\n",
      "\n",
      "CASH_OUT Transaction\n",
      "Minimum Transaction : 0.0\n",
      "Maximum Transaction : 10000000.0\n"
     ]
    }
   ],
   "source": [
    "# Finding out the minimum and maximum transaction from Transfer and cash out transaction modes when it is set to be Fraud\n",
    "\n",
    "print(\"Transfer Transaction\")\n",
    "print(\"Minimum Transaction :\", data.loc[(data.isFraud == 1) & (data.type == 'TRANSFER')].amount.min())\n",
    "print(\"Maximum Transaction :\", data.loc[(data.isFraud == 1) & (data.type == 'TRANSFER')].amount.max())\n",
    "\n",
    "print(\"\\nCASH_OUT Transaction\")\n",
    "print(\"Minimum Transaction :\", data.loc[(data.isFraud == 1) & (data.type == 'CASH_OUT')].amount.min())\n",
    "print(\"Maximum Transaction :\", data.loc[(data.isFraud == 1) & (data.type == 'CASH_OUT')].amount.max())"
   ]
  },
  {
   "cell_type": "code",
   "execution_count": 49,
   "metadata": {},
   "outputs": [
    {
     "name": "stdout",
     "output_type": "stream",
     "text": [
      "The no.of flagged fraud transactions by TRANSFER type are:  16\n",
      "The no.of flagged fraud transactions by CASHOUT type are:  4116\n"
     ]
    }
   ],
   "source": [
    "# Discovering no.of flagged fraud transactions\n",
    "Flagged = data.loc[(data.isFlaggedFraud == 1) & (data.type == \"TRANSFER\")]\n",
    "print(\"The no.of flagged fraud transactions by TRANSFER type are: \",len(Flagged))\n",
    "\n",
    "Flagged_ = data.loc[(data.isFlaggedFraud == 1) & (data.type == \"CASH_OUT\")]\n",
    "print(\"The no.of flagged fraud transactions by CASHOUT type are: \", len(dfFraudCashout))"
   ]
  },
  {
   "cell_type": "markdown",
   "metadata": {},
   "source": [
    "### Creating a dataframe where only TRANSFER type of fraudlent transactions are mentioned"
   ]
  },
  {
   "cell_type": "code",
   "execution_count": 51,
   "metadata": {},
   "outputs": [
    {
     "data": {
      "text/html": [
       "<div>\n",
       "<style scoped>\n",
       "    .dataframe tbody tr th:only-of-type {\n",
       "        vertical-align: middle;\n",
       "    }\n",
       "\n",
       "    .dataframe tbody tr th {\n",
       "        vertical-align: top;\n",
       "    }\n",
       "\n",
       "    .dataframe thead th {\n",
       "        text-align: right;\n",
       "    }\n",
       "</style>\n",
       "<table border=\"1\" class=\"dataframe\">\n",
       "  <thead>\n",
       "    <tr style=\"text-align: right;\">\n",
       "      <th></th>\n",
       "      <th>step</th>\n",
       "      <th>type</th>\n",
       "      <th>amount</th>\n",
       "      <th>nameOrig</th>\n",
       "      <th>oldbalanceOrg</th>\n",
       "      <th>newbalanceOrig</th>\n",
       "      <th>nameDest</th>\n",
       "      <th>oldbalanceDest</th>\n",
       "      <th>newbalanceDest</th>\n",
       "      <th>isFraud</th>\n",
       "      <th>isFlaggedFraud</th>\n",
       "    </tr>\n",
       "  </thead>\n",
       "  <tbody>\n",
       "    <tr>\n",
       "      <th>2</th>\n",
       "      <td>1</td>\n",
       "      <td>TRANSFER</td>\n",
       "      <td>181.00</td>\n",
       "      <td>C1305486145</td>\n",
       "      <td>181.00</td>\n",
       "      <td>0.0</td>\n",
       "      <td>C553264065</td>\n",
       "      <td>0.00</td>\n",
       "      <td>0.00</td>\n",
       "      <td>1</td>\n",
       "      <td>0</td>\n",
       "    </tr>\n",
       "    <tr>\n",
       "      <th>19</th>\n",
       "      <td>1</td>\n",
       "      <td>TRANSFER</td>\n",
       "      <td>215310.30</td>\n",
       "      <td>C1670993182</td>\n",
       "      <td>705.00</td>\n",
       "      <td>0.0</td>\n",
       "      <td>C1100439041</td>\n",
       "      <td>22425.00</td>\n",
       "      <td>0.00</td>\n",
       "      <td>0</td>\n",
       "      <td>0</td>\n",
       "    </tr>\n",
       "    <tr>\n",
       "      <th>24</th>\n",
       "      <td>1</td>\n",
       "      <td>TRANSFER</td>\n",
       "      <td>311685.89</td>\n",
       "      <td>C1984094095</td>\n",
       "      <td>10835.00</td>\n",
       "      <td>0.0</td>\n",
       "      <td>C932583850</td>\n",
       "      <td>6267.00</td>\n",
       "      <td>2719172.89</td>\n",
       "      <td>0</td>\n",
       "      <td>0</td>\n",
       "    </tr>\n",
       "    <tr>\n",
       "      <th>58</th>\n",
       "      <td>1</td>\n",
       "      <td>TRANSFER</td>\n",
       "      <td>62610.80</td>\n",
       "      <td>C1976401987</td>\n",
       "      <td>79114.00</td>\n",
       "      <td>16503.2</td>\n",
       "      <td>C1937962514</td>\n",
       "      <td>517.00</td>\n",
       "      <td>8383.29</td>\n",
       "      <td>0</td>\n",
       "      <td>0</td>\n",
       "    </tr>\n",
       "    <tr>\n",
       "      <th>78</th>\n",
       "      <td>1</td>\n",
       "      <td>TRANSFER</td>\n",
       "      <td>42712.39</td>\n",
       "      <td>C283039401</td>\n",
       "      <td>10363.39</td>\n",
       "      <td>0.0</td>\n",
       "      <td>C1330106945</td>\n",
       "      <td>57901.66</td>\n",
       "      <td>24044.18</td>\n",
       "      <td>0</td>\n",
       "      <td>0</td>\n",
       "    </tr>\n",
       "    <tr>\n",
       "      <th>79</th>\n",
       "      <td>1</td>\n",
       "      <td>TRANSFER</td>\n",
       "      <td>77957.68</td>\n",
       "      <td>C207471778</td>\n",
       "      <td>0.00</td>\n",
       "      <td>0.0</td>\n",
       "      <td>C1761291320</td>\n",
       "      <td>94900.00</td>\n",
       "      <td>22233.65</td>\n",
       "      <td>0</td>\n",
       "      <td>0</td>\n",
       "    </tr>\n",
       "    <tr>\n",
       "      <th>80</th>\n",
       "      <td>1</td>\n",
       "      <td>TRANSFER</td>\n",
       "      <td>17231.46</td>\n",
       "      <td>C1243171897</td>\n",
       "      <td>0.00</td>\n",
       "      <td>0.0</td>\n",
       "      <td>C783286238</td>\n",
       "      <td>24672.00</td>\n",
       "      <td>0.00</td>\n",
       "      <td>0</td>\n",
       "      <td>0</td>\n",
       "    </tr>\n",
       "    <tr>\n",
       "      <th>81</th>\n",
       "      <td>1</td>\n",
       "      <td>TRANSFER</td>\n",
       "      <td>78766.03</td>\n",
       "      <td>C1376151044</td>\n",
       "      <td>0.00</td>\n",
       "      <td>0.0</td>\n",
       "      <td>C1749186397</td>\n",
       "      <td>103772.00</td>\n",
       "      <td>277515.05</td>\n",
       "      <td>0</td>\n",
       "      <td>0</td>\n",
       "    </tr>\n",
       "    <tr>\n",
       "      <th>82</th>\n",
       "      <td>1</td>\n",
       "      <td>TRANSFER</td>\n",
       "      <td>224606.64</td>\n",
       "      <td>C873175411</td>\n",
       "      <td>0.00</td>\n",
       "      <td>0.0</td>\n",
       "      <td>C766572210</td>\n",
       "      <td>354678.92</td>\n",
       "      <td>0.00</td>\n",
       "      <td>0</td>\n",
       "      <td>0</td>\n",
       "    </tr>\n",
       "    <tr>\n",
       "      <th>83</th>\n",
       "      <td>1</td>\n",
       "      <td>TRANSFER</td>\n",
       "      <td>125872.53</td>\n",
       "      <td>C1443967876</td>\n",
       "      <td>0.00</td>\n",
       "      <td>0.0</td>\n",
       "      <td>C392292416</td>\n",
       "      <td>348512.00</td>\n",
       "      <td>3420103.09</td>\n",
       "      <td>0</td>\n",
       "      <td>0</td>\n",
       "    </tr>\n",
       "  </tbody>\n",
       "</table>\n",
       "</div>"
      ],
      "text/plain": [
       "    step      type     amount     nameOrig  oldbalanceOrg  newbalanceOrig  \\\n",
       "2      1  TRANSFER     181.00  C1305486145         181.00             0.0   \n",
       "19     1  TRANSFER  215310.30  C1670993182         705.00             0.0   \n",
       "24     1  TRANSFER  311685.89  C1984094095       10835.00             0.0   \n",
       "58     1  TRANSFER   62610.80  C1976401987       79114.00         16503.2   \n",
       "78     1  TRANSFER   42712.39   C283039401       10363.39             0.0   \n",
       "79     1  TRANSFER   77957.68   C207471778           0.00             0.0   \n",
       "80     1  TRANSFER   17231.46  C1243171897           0.00             0.0   \n",
       "81     1  TRANSFER   78766.03  C1376151044           0.00             0.0   \n",
       "82     1  TRANSFER  224606.64   C873175411           0.00             0.0   \n",
       "83     1  TRANSFER  125872.53  C1443967876           0.00             0.0   \n",
       "\n",
       "       nameDest  oldbalanceDest  newbalanceDest  isFraud  isFlaggedFraud  \n",
       "2    C553264065            0.00            0.00        1               0  \n",
       "19  C1100439041        22425.00            0.00        0               0  \n",
       "24   C932583850         6267.00      2719172.89        0               0  \n",
       "58  C1937962514          517.00         8383.29        0               0  \n",
       "78  C1330106945        57901.66        24044.18        0               0  \n",
       "79  C1761291320        94900.00        22233.65        0               0  \n",
       "80   C783286238        24672.00            0.00        0               0  \n",
       "81  C1749186397       103772.00       277515.05        0               0  \n",
       "82   C766572210       354678.92            0.00        0               0  \n",
       "83   C392292416       348512.00      3420103.09        0               0  "
      ]
     },
     "execution_count": 51,
     "metadata": {},
     "output_type": "execute_result"
    }
   ],
   "source": [
    "dataTransfer = data.loc[data[\"type\"] == \"TRANSFER\"]\n",
    "dataTransfer = pd.DataFrame(dataTransfer)\n",
    "dataTransfer.head(10)"
   ]
  },
  {
   "cell_type": "code",
   "execution_count": 52,
   "metadata": {},
   "outputs": [
    {
     "data": {
      "text/plain": [
       "array(['TRANSFER'], dtype=object)"
      ]
     },
     "execution_count": 52,
     "metadata": {},
     "output_type": "execute_result"
    }
   ],
   "source": [
    "# checking the type column to be TRANSFER\n",
    "dataTransfer[\"type\"].unique()"
   ]
  },
  {
   "cell_type": "markdown",
   "metadata": {},
   "source": [
    "### The below table shows flagged frauds with minimum original balance"
   ]
  },
  {
   "cell_type": "code",
   "execution_count": 57,
   "metadata": {},
   "outputs": [
    {
     "data": {
      "text/html": [
       "<div>\n",
       "<style scoped>\n",
       "    .dataframe tbody tr th:only-of-type {\n",
       "        vertical-align: middle;\n",
       "    }\n",
       "\n",
       "    .dataframe tbody tr th {\n",
       "        vertical-align: top;\n",
       "    }\n",
       "\n",
       "    .dataframe thead th {\n",
       "        text-align: right;\n",
       "    }\n",
       "</style>\n",
       "<table border=\"1\" class=\"dataframe\">\n",
       "  <thead>\n",
       "    <tr style=\"text-align: right;\">\n",
       "      <th></th>\n",
       "      <th>step</th>\n",
       "      <th>type</th>\n",
       "      <th>amount</th>\n",
       "      <th>nameOrig</th>\n",
       "      <th>oldbalanceOrg</th>\n",
       "      <th>newbalanceOrig</th>\n",
       "      <th>nameDest</th>\n",
       "      <th>oldbalanceDest</th>\n",
       "      <th>newbalanceDest</th>\n",
       "      <th>isFraud</th>\n",
       "      <th>isFlaggedFraud</th>\n",
       "    </tr>\n",
       "  </thead>\n",
       "  <tbody>\n",
       "    <tr>\n",
       "      <th>6205439</th>\n",
       "      <td>586</td>\n",
       "      <td>TRANSFER</td>\n",
       "      <td>353874.22</td>\n",
       "      <td>C1684585475</td>\n",
       "      <td>353874.22</td>\n",
       "      <td>353874.22</td>\n",
       "      <td>C1770418982</td>\n",
       "      <td>0.0</td>\n",
       "      <td>0.0</td>\n",
       "      <td>1</td>\n",
       "      <td>1</td>\n",
       "    </tr>\n",
       "    <tr>\n",
       "      <th>3760288</th>\n",
       "      <td>279</td>\n",
       "      <td>TRANSFER</td>\n",
       "      <td>536624.41</td>\n",
       "      <td>C1035541766</td>\n",
       "      <td>536624.41</td>\n",
       "      <td>536624.41</td>\n",
       "      <td>C1100697970</td>\n",
       "      <td>0.0</td>\n",
       "      <td>0.0</td>\n",
       "      <td>1</td>\n",
       "      <td>1</td>\n",
       "    </tr>\n",
       "    <tr>\n",
       "      <th>3247297</th>\n",
       "      <td>250</td>\n",
       "      <td>TRANSFER</td>\n",
       "      <td>1343002.08</td>\n",
       "      <td>C1100582606</td>\n",
       "      <td>1343002.08</td>\n",
       "      <td>1343002.08</td>\n",
       "      <td>C1147517658</td>\n",
       "      <td>0.0</td>\n",
       "      <td>0.0</td>\n",
       "      <td>1</td>\n",
       "      <td>1</td>\n",
       "    </tr>\n",
       "    <tr>\n",
       "      <th>6266413</th>\n",
       "      <td>617</td>\n",
       "      <td>TRANSFER</td>\n",
       "      <td>2542664.27</td>\n",
       "      <td>C786455622</td>\n",
       "      <td>2542664.27</td>\n",
       "      <td>2542664.27</td>\n",
       "      <td>C661958277</td>\n",
       "      <td>0.0</td>\n",
       "      <td>0.0</td>\n",
       "      <td>1</td>\n",
       "      <td>1</td>\n",
       "    </tr>\n",
       "    <tr>\n",
       "      <th>6351225</th>\n",
       "      <td>702</td>\n",
       "      <td>TRANSFER</td>\n",
       "      <td>3171085.59</td>\n",
       "      <td>C1892216157</td>\n",
       "      <td>3171085.59</td>\n",
       "      <td>3171085.59</td>\n",
       "      <td>C1308068787</td>\n",
       "      <td>0.0</td>\n",
       "      <td>0.0</td>\n",
       "      <td>1</td>\n",
       "      <td>1</td>\n",
       "    </tr>\n",
       "    <tr>\n",
       "      <th>6296014</th>\n",
       "      <td>671</td>\n",
       "      <td>TRANSFER</td>\n",
       "      <td>3441041.46</td>\n",
       "      <td>C917414431</td>\n",
       "      <td>3441041.46</td>\n",
       "      <td>3441041.46</td>\n",
       "      <td>C1082139865</td>\n",
       "      <td>0.0</td>\n",
       "      <td>0.0</td>\n",
       "      <td>1</td>\n",
       "      <td>1</td>\n",
       "    </tr>\n",
       "    <tr>\n",
       "      <th>6168499</th>\n",
       "      <td>554</td>\n",
       "      <td>TRANSFER</td>\n",
       "      <td>3576297.10</td>\n",
       "      <td>C193696150</td>\n",
       "      <td>3576297.10</td>\n",
       "      <td>3576297.10</td>\n",
       "      <td>C484597480</td>\n",
       "      <td>0.0</td>\n",
       "      <td>0.0</td>\n",
       "      <td>1</td>\n",
       "      <td>1</td>\n",
       "    </tr>\n",
       "    <tr>\n",
       "      <th>5563713</th>\n",
       "      <td>387</td>\n",
       "      <td>TRANSFER</td>\n",
       "      <td>4892193.09</td>\n",
       "      <td>C908544136</td>\n",
       "      <td>4892193.09</td>\n",
       "      <td>4892193.09</td>\n",
       "      <td>C891140444</td>\n",
       "      <td>0.0</td>\n",
       "      <td>0.0</td>\n",
       "      <td>1</td>\n",
       "      <td>1</td>\n",
       "    </tr>\n",
       "    <tr>\n",
       "      <th>2736446</th>\n",
       "      <td>212</td>\n",
       "      <td>TRANSFER</td>\n",
       "      <td>4953893.08</td>\n",
       "      <td>C728984460</td>\n",
       "      <td>4953893.08</td>\n",
       "      <td>4953893.08</td>\n",
       "      <td>C639921569</td>\n",
       "      <td>0.0</td>\n",
       "      <td>0.0</td>\n",
       "      <td>1</td>\n",
       "      <td>1</td>\n",
       "    </tr>\n",
       "    <tr>\n",
       "      <th>6362584</th>\n",
       "      <td>741</td>\n",
       "      <td>TRANSFER</td>\n",
       "      <td>5674547.89</td>\n",
       "      <td>C992223106</td>\n",
       "      <td>5674547.89</td>\n",
       "      <td>5674547.89</td>\n",
       "      <td>C1366804249</td>\n",
       "      <td>0.0</td>\n",
       "      <td>0.0</td>\n",
       "      <td>1</td>\n",
       "      <td>1</td>\n",
       "    </tr>\n",
       "  </tbody>\n",
       "</table>\n",
       "</div>"
      ],
      "text/plain": [
       "         step      type      amount     nameOrig  oldbalanceOrg  \\\n",
       "6205439   586  TRANSFER   353874.22  C1684585475      353874.22   \n",
       "3760288   279  TRANSFER   536624.41  C1035541766      536624.41   \n",
       "3247297   250  TRANSFER  1343002.08  C1100582606     1343002.08   \n",
       "6266413   617  TRANSFER  2542664.27   C786455622     2542664.27   \n",
       "6351225   702  TRANSFER  3171085.59  C1892216157     3171085.59   \n",
       "6296014   671  TRANSFER  3441041.46   C917414431     3441041.46   \n",
       "6168499   554  TRANSFER  3576297.10   C193696150     3576297.10   \n",
       "5563713   387  TRANSFER  4892193.09   C908544136     4892193.09   \n",
       "2736446   212  TRANSFER  4953893.08   C728984460     4953893.08   \n",
       "6362584   741  TRANSFER  5674547.89   C992223106     5674547.89   \n",
       "\n",
       "         newbalanceOrig     nameDest  oldbalanceDest  newbalanceDest  isFraud  \\\n",
       "6205439       353874.22  C1770418982             0.0             0.0        1   \n",
       "3760288       536624.41  C1100697970             0.0             0.0        1   \n",
       "3247297      1343002.08  C1147517658             0.0             0.0        1   \n",
       "6266413      2542664.27   C661958277             0.0             0.0        1   \n",
       "6351225      3171085.59  C1308068787             0.0             0.0        1   \n",
       "6296014      3441041.46  C1082139865             0.0             0.0        1   \n",
       "6168499      3576297.10   C484597480             0.0             0.0        1   \n",
       "5563713      4892193.09   C891140444             0.0             0.0        1   \n",
       "2736446      4953893.08   C639921569             0.0             0.0        1   \n",
       "6362584      5674547.89  C1366804249             0.0             0.0        1   \n",
       "\n",
       "         isFlaggedFraud  \n",
       "6205439               1  \n",
       "3760288               1  \n",
       "3247297               1  \n",
       "6266413               1  \n",
       "6351225               1  \n",
       "6296014               1  \n",
       "6168499               1  \n",
       "5563713               1  \n",
       "2736446               1  \n",
       "6362584               1  "
      ]
     },
     "execution_count": 57,
     "metadata": {},
     "output_type": "execute_result"
    }
   ],
   "source": [
    "# Frauds have same old and new balance\n",
    "# sorted by old original balance to new original balnce for flagged frauds\n",
    "dataTransfer.loc[(dataTransfer.isFlaggedFraud == 1) & (dataTransfer.oldbalanceOrg == dataTransfer.newbalanceOrig)].sort_values(by = 'oldbalanceOrg').head(10)"
   ]
  },
  {
   "cell_type": "code",
   "execution_count": 58,
   "metadata": {},
   "outputs": [
    {
     "data": {
      "text/html": [
       "<div>\n",
       "<style scoped>\n",
       "    .dataframe tbody tr th:only-of-type {\n",
       "        vertical-align: middle;\n",
       "    }\n",
       "\n",
       "    .dataframe tbody tr th {\n",
       "        vertical-align: top;\n",
       "    }\n",
       "\n",
       "    .dataframe thead th {\n",
       "        text-align: right;\n",
       "    }\n",
       "</style>\n",
       "<table border=\"1\" class=\"dataframe\">\n",
       "  <thead>\n",
       "    <tr style=\"text-align: right;\">\n",
       "      <th></th>\n",
       "      <th>step</th>\n",
       "      <th>type</th>\n",
       "      <th>amount</th>\n",
       "      <th>nameOrig</th>\n",
       "      <th>oldbalanceOrg</th>\n",
       "      <th>newbalanceOrig</th>\n",
       "      <th>nameDest</th>\n",
       "      <th>oldbalanceDest</th>\n",
       "      <th>newbalanceDest</th>\n",
       "      <th>isFraud</th>\n",
       "      <th>isFlaggedFraud</th>\n",
       "    </tr>\n",
       "  </thead>\n",
       "  <tbody>\n",
       "    <tr>\n",
       "      <th>6168499</th>\n",
       "      <td>554</td>\n",
       "      <td>TRANSFER</td>\n",
       "      <td>3576297.10</td>\n",
       "      <td>C193696150</td>\n",
       "      <td>3576297.10</td>\n",
       "      <td>3576297.10</td>\n",
       "      <td>C484597480</td>\n",
       "      <td>0.0</td>\n",
       "      <td>0.0</td>\n",
       "      <td>1</td>\n",
       "      <td>1</td>\n",
       "    </tr>\n",
       "    <tr>\n",
       "      <th>5563713</th>\n",
       "      <td>387</td>\n",
       "      <td>TRANSFER</td>\n",
       "      <td>4892193.09</td>\n",
       "      <td>C908544136</td>\n",
       "      <td>4892193.09</td>\n",
       "      <td>4892193.09</td>\n",
       "      <td>C891140444</td>\n",
       "      <td>0.0</td>\n",
       "      <td>0.0</td>\n",
       "      <td>1</td>\n",
       "      <td>1</td>\n",
       "    </tr>\n",
       "    <tr>\n",
       "      <th>2736446</th>\n",
       "      <td>212</td>\n",
       "      <td>TRANSFER</td>\n",
       "      <td>4953893.08</td>\n",
       "      <td>C728984460</td>\n",
       "      <td>4953893.08</td>\n",
       "      <td>4953893.08</td>\n",
       "      <td>C639921569</td>\n",
       "      <td>0.0</td>\n",
       "      <td>0.0</td>\n",
       "      <td>1</td>\n",
       "      <td>1</td>\n",
       "    </tr>\n",
       "    <tr>\n",
       "      <th>6362584</th>\n",
       "      <td>741</td>\n",
       "      <td>TRANSFER</td>\n",
       "      <td>5674547.89</td>\n",
       "      <td>C992223106</td>\n",
       "      <td>5674547.89</td>\n",
       "      <td>5674547.89</td>\n",
       "      <td>C1366804249</td>\n",
       "      <td>0.0</td>\n",
       "      <td>0.0</td>\n",
       "      <td>1</td>\n",
       "      <td>1</td>\n",
       "    </tr>\n",
       "    <tr>\n",
       "      <th>6281482</th>\n",
       "      <td>646</td>\n",
       "      <td>TRANSFER</td>\n",
       "      <td>10000000.00</td>\n",
       "      <td>C19004745</td>\n",
       "      <td>10399045.08</td>\n",
       "      <td>10399045.08</td>\n",
       "      <td>C1806199534</td>\n",
       "      <td>0.0</td>\n",
       "      <td>0.0</td>\n",
       "      <td>1</td>\n",
       "      <td>1</td>\n",
       "    </tr>\n",
       "    <tr>\n",
       "      <th>6281484</th>\n",
       "      <td>646</td>\n",
       "      <td>TRANSFER</td>\n",
       "      <td>399045.08</td>\n",
       "      <td>C724693370</td>\n",
       "      <td>10399045.08</td>\n",
       "      <td>10399045.08</td>\n",
       "      <td>C1909486199</td>\n",
       "      <td>0.0</td>\n",
       "      <td>0.0</td>\n",
       "      <td>1</td>\n",
       "      <td>1</td>\n",
       "    </tr>\n",
       "    <tr>\n",
       "      <th>6362460</th>\n",
       "      <td>730</td>\n",
       "      <td>TRANSFER</td>\n",
       "      <td>10000000.00</td>\n",
       "      <td>C2140038573</td>\n",
       "      <td>17316255.05</td>\n",
       "      <td>17316255.05</td>\n",
       "      <td>C1395467927</td>\n",
       "      <td>0.0</td>\n",
       "      <td>0.0</td>\n",
       "      <td>1</td>\n",
       "      <td>1</td>\n",
       "    </tr>\n",
       "    <tr>\n",
       "      <th>6362462</th>\n",
       "      <td>730</td>\n",
       "      <td>TRANSFER</td>\n",
       "      <td>7316255.05</td>\n",
       "      <td>C1869569059</td>\n",
       "      <td>17316255.05</td>\n",
       "      <td>17316255.05</td>\n",
       "      <td>C1861208726</td>\n",
       "      <td>0.0</td>\n",
       "      <td>0.0</td>\n",
       "      <td>1</td>\n",
       "      <td>1</td>\n",
       "    </tr>\n",
       "    <tr>\n",
       "      <th>5996407</th>\n",
       "      <td>425</td>\n",
       "      <td>TRANSFER</td>\n",
       "      <td>10000000.00</td>\n",
       "      <td>C689608084</td>\n",
       "      <td>19585040.37</td>\n",
       "      <td>19585040.37</td>\n",
       "      <td>C1392803603</td>\n",
       "      <td>0.0</td>\n",
       "      <td>0.0</td>\n",
       "      <td>1</td>\n",
       "      <td>1</td>\n",
       "    </tr>\n",
       "    <tr>\n",
       "      <th>5996409</th>\n",
       "      <td>425</td>\n",
       "      <td>TRANSFER</td>\n",
       "      <td>9585040.37</td>\n",
       "      <td>C452586515</td>\n",
       "      <td>19585040.37</td>\n",
       "      <td>19585040.37</td>\n",
       "      <td>C1109166882</td>\n",
       "      <td>0.0</td>\n",
       "      <td>0.0</td>\n",
       "      <td>1</td>\n",
       "      <td>1</td>\n",
       "    </tr>\n",
       "  </tbody>\n",
       "</table>\n",
       "</div>"
      ],
      "text/plain": [
       "         step      type       amount     nameOrig  oldbalanceOrg  \\\n",
       "6168499   554  TRANSFER   3576297.10   C193696150     3576297.10   \n",
       "5563713   387  TRANSFER   4892193.09   C908544136     4892193.09   \n",
       "2736446   212  TRANSFER   4953893.08   C728984460     4953893.08   \n",
       "6362584   741  TRANSFER   5674547.89   C992223106     5674547.89   \n",
       "6281482   646  TRANSFER  10000000.00    C19004745    10399045.08   \n",
       "6281484   646  TRANSFER    399045.08   C724693370    10399045.08   \n",
       "6362460   730  TRANSFER  10000000.00  C2140038573    17316255.05   \n",
       "6362462   730  TRANSFER   7316255.05  C1869569059    17316255.05   \n",
       "5996407   425  TRANSFER  10000000.00   C689608084    19585040.37   \n",
       "5996409   425  TRANSFER   9585040.37   C452586515    19585040.37   \n",
       "\n",
       "         newbalanceOrig     nameDest  oldbalanceDest  newbalanceDest  isFraud  \\\n",
       "6168499      3576297.10   C484597480             0.0             0.0        1   \n",
       "5563713      4892193.09   C891140444             0.0             0.0        1   \n",
       "2736446      4953893.08   C639921569             0.0             0.0        1   \n",
       "6362584      5674547.89  C1366804249             0.0             0.0        1   \n",
       "6281482     10399045.08  C1806199534             0.0             0.0        1   \n",
       "6281484     10399045.08  C1909486199             0.0             0.0        1   \n",
       "6362460     17316255.05  C1395467927             0.0             0.0        1   \n",
       "6362462     17316255.05  C1861208726             0.0             0.0        1   \n",
       "5996407     19585040.37  C1392803603             0.0             0.0        1   \n",
       "5996409     19585040.37  C1109166882             0.0             0.0        1   \n",
       "\n",
       "         isFlaggedFraud  \n",
       "6168499               1  \n",
       "5563713               1  \n",
       "2736446               1  \n",
       "6362584               1  \n",
       "6281482               1  \n",
       "6281484               1  \n",
       "6362460               1  \n",
       "6362462               1  \n",
       "5996407               1  \n",
       "5996409               1  "
      ]
     },
     "execution_count": 58,
     "metadata": {},
     "output_type": "execute_result"
    }
   ],
   "source": [
    "# Frauds having same old and new balance\n",
    "# Sorted by old orignal balance to check original old balance for flagged frauds\n",
    "dataTransfer.loc[(dataTransfer.isFlaggedFraud == 1) & (dataTransfer.oldbalanceOrg == dataTransfer.newbalanceOrig)].sort_values(by = 'oldbalanceOrg').tail(10)"
   ]
  },
  {
   "cell_type": "code",
   "execution_count": 60,
   "metadata": {},
   "outputs": [
    {
     "name": "stdout",
     "output_type": "stream",
     "text": [
      "Minimum Balance of oldBalanceOrig for FlaggedFraud in Transfer mode : 353874.22\n",
      "Maximum Balance of oldbalanceOrig for FlaggedFraud in Transfer mode : 19585040.37\n"
     ]
    }
   ],
   "source": [
    "# Finding out the minimum and maximum amount for oldbalance original where oldbalance and newbalance for dest is same.\n",
    "\n",
    "dataFlagged = data.loc[data.isFlaggedFraud == 1]\n",
    "\n",
    "print('Minimum Balance of oldBalanceOrig for FlaggedFraud in Transfer mode :', dataFlagged.oldbalanceOrg.min())\n",
    "print('Maximum Balance of oldbalanceOrig for FlaggedFraud in Transfer mode :', dataFlagged.oldbalanceOrg.max())"
   ]
  },
  {
   "cell_type": "code",
   "execution_count": 100,
   "metadata": {},
   "outputs": [
    {
     "data": {
      "text/plain": [
       "(2770409, 11)"
      ]
     },
     "execution_count": 100,
     "metadata": {},
     "output_type": "execute_result"
    }
   ],
   "source": [
    "# since fraud has occured for TRANSFER and CASH_OUT types\n",
    "X = data.loc[(data.type == \"TRANSFER\") | (data.type == \"CASH_OUT\")]\n",
    "X.shape"
   ]
  },
  {
   "cell_type": "code",
   "execution_count": 101,
   "metadata": {},
   "outputs": [
    {
     "data": {
      "text/html": [
       "<div>\n",
       "<style scoped>\n",
       "    .dataframe tbody tr th:only-of-type {\n",
       "        vertical-align: middle;\n",
       "    }\n",
       "\n",
       "    .dataframe tbody tr th {\n",
       "        vertical-align: top;\n",
       "    }\n",
       "\n",
       "    .dataframe thead th {\n",
       "        text-align: right;\n",
       "    }\n",
       "</style>\n",
       "<table border=\"1\" class=\"dataframe\">\n",
       "  <thead>\n",
       "    <tr style=\"text-align: right;\">\n",
       "      <th></th>\n",
       "      <th>step</th>\n",
       "      <th>type</th>\n",
       "      <th>amount</th>\n",
       "      <th>nameOrig</th>\n",
       "      <th>oldbalanceOrg</th>\n",
       "      <th>newbalanceOrig</th>\n",
       "      <th>nameDest</th>\n",
       "      <th>oldbalanceDest</th>\n",
       "      <th>newbalanceDest</th>\n",
       "      <th>isFraud</th>\n",
       "      <th>isFlaggedFraud</th>\n",
       "    </tr>\n",
       "  </thead>\n",
       "  <tbody>\n",
       "    <tr>\n",
       "      <th>2</th>\n",
       "      <td>1</td>\n",
       "      <td>TRANSFER</td>\n",
       "      <td>181.00</td>\n",
       "      <td>C1305486145</td>\n",
       "      <td>181.0</td>\n",
       "      <td>0.0</td>\n",
       "      <td>C553264065</td>\n",
       "      <td>0.0</td>\n",
       "      <td>0.00</td>\n",
       "      <td>1</td>\n",
       "      <td>0</td>\n",
       "    </tr>\n",
       "    <tr>\n",
       "      <th>3</th>\n",
       "      <td>1</td>\n",
       "      <td>CASH_OUT</td>\n",
       "      <td>181.00</td>\n",
       "      <td>C840083671</td>\n",
       "      <td>181.0</td>\n",
       "      <td>0.0</td>\n",
       "      <td>C38997010</td>\n",
       "      <td>21182.0</td>\n",
       "      <td>0.00</td>\n",
       "      <td>1</td>\n",
       "      <td>0</td>\n",
       "    </tr>\n",
       "    <tr>\n",
       "      <th>15</th>\n",
       "      <td>1</td>\n",
       "      <td>CASH_OUT</td>\n",
       "      <td>229133.94</td>\n",
       "      <td>C905080434</td>\n",
       "      <td>15325.0</td>\n",
       "      <td>0.0</td>\n",
       "      <td>C476402209</td>\n",
       "      <td>5083.0</td>\n",
       "      <td>51513.44</td>\n",
       "      <td>0</td>\n",
       "      <td>0</td>\n",
       "    </tr>\n",
       "    <tr>\n",
       "      <th>19</th>\n",
       "      <td>1</td>\n",
       "      <td>TRANSFER</td>\n",
       "      <td>215310.30</td>\n",
       "      <td>C1670993182</td>\n",
       "      <td>705.0</td>\n",
       "      <td>0.0</td>\n",
       "      <td>C1100439041</td>\n",
       "      <td>22425.0</td>\n",
       "      <td>0.00</td>\n",
       "      <td>0</td>\n",
       "      <td>0</td>\n",
       "    </tr>\n",
       "    <tr>\n",
       "      <th>24</th>\n",
       "      <td>1</td>\n",
       "      <td>TRANSFER</td>\n",
       "      <td>311685.89</td>\n",
       "      <td>C1984094095</td>\n",
       "      <td>10835.0</td>\n",
       "      <td>0.0</td>\n",
       "      <td>C932583850</td>\n",
       "      <td>6267.0</td>\n",
       "      <td>2719172.89</td>\n",
       "      <td>0</td>\n",
       "      <td>0</td>\n",
       "    </tr>\n",
       "  </tbody>\n",
       "</table>\n",
       "</div>"
      ],
      "text/plain": [
       "    step      type     amount     nameOrig  oldbalanceOrg  newbalanceOrig  \\\n",
       "2      1  TRANSFER     181.00  C1305486145          181.0             0.0   \n",
       "3      1  CASH_OUT     181.00   C840083671          181.0             0.0   \n",
       "15     1  CASH_OUT  229133.94   C905080434        15325.0             0.0   \n",
       "19     1  TRANSFER  215310.30  C1670993182          705.0             0.0   \n",
       "24     1  TRANSFER  311685.89  C1984094095        10835.0             0.0   \n",
       "\n",
       "       nameDest  oldbalanceDest  newbalanceDest  isFraud  isFlaggedFraud  \n",
       "2    C553264065             0.0            0.00        1               0  \n",
       "3     C38997010         21182.0            0.00        1               0  \n",
       "15   C476402209          5083.0        51513.44        0               0  \n",
       "19  C1100439041         22425.0            0.00        0               0  \n",
       "24   C932583850          6267.0      2719172.89        0               0  "
      ]
     },
     "execution_count": 101,
     "metadata": {},
     "output_type": "execute_result"
    }
   ],
   "source": [
    "X.head()"
   ]
  },
  {
   "cell_type": "code",
   "execution_count": 102,
   "metadata": {},
   "outputs": [
    {
     "data": {
      "text/plain": [
       "array(['TRANSFER', 'CASH_OUT'], dtype=object)"
      ]
     },
     "execution_count": 102,
     "metadata": {},
     "output_type": "execute_result"
    }
   ],
   "source": [
    "X[\"type\"].unique()"
   ]
  },
  {
   "cell_type": "code",
   "execution_count": 103,
   "metadata": {},
   "outputs": [
    {
     "data": {
      "text/html": [
       "<div>\n",
       "<style scoped>\n",
       "    .dataframe tbody tr th:only-of-type {\n",
       "        vertical-align: middle;\n",
       "    }\n",
       "\n",
       "    .dataframe tbody tr th {\n",
       "        vertical-align: top;\n",
       "    }\n",
       "\n",
       "    .dataframe thead th {\n",
       "        text-align: right;\n",
       "    }\n",
       "</style>\n",
       "<table border=\"1\" class=\"dataframe\">\n",
       "  <thead>\n",
       "    <tr style=\"text-align: right;\">\n",
       "      <th></th>\n",
       "      <th>step</th>\n",
       "      <th>type</th>\n",
       "      <th>amount</th>\n",
       "      <th>oldbalanceOrg</th>\n",
       "      <th>newbalanceOrig</th>\n",
       "      <th>oldbalanceDest</th>\n",
       "      <th>newbalanceDest</th>\n",
       "      <th>isFraud</th>\n",
       "      <th>isFlaggedFraud</th>\n",
       "    </tr>\n",
       "  </thead>\n",
       "  <tbody>\n",
       "    <tr>\n",
       "      <th>2</th>\n",
       "      <td>1</td>\n",
       "      <td>TRANSFER</td>\n",
       "      <td>181.00</td>\n",
       "      <td>181.0</td>\n",
       "      <td>0.0</td>\n",
       "      <td>0.0</td>\n",
       "      <td>0.00</td>\n",
       "      <td>1</td>\n",
       "      <td>0</td>\n",
       "    </tr>\n",
       "    <tr>\n",
       "      <th>3</th>\n",
       "      <td>1</td>\n",
       "      <td>CASH_OUT</td>\n",
       "      <td>181.00</td>\n",
       "      <td>181.0</td>\n",
       "      <td>0.0</td>\n",
       "      <td>21182.0</td>\n",
       "      <td>0.00</td>\n",
       "      <td>1</td>\n",
       "      <td>0</td>\n",
       "    </tr>\n",
       "    <tr>\n",
       "      <th>15</th>\n",
       "      <td>1</td>\n",
       "      <td>CASH_OUT</td>\n",
       "      <td>229133.94</td>\n",
       "      <td>15325.0</td>\n",
       "      <td>0.0</td>\n",
       "      <td>5083.0</td>\n",
       "      <td>51513.44</td>\n",
       "      <td>0</td>\n",
       "      <td>0</td>\n",
       "    </tr>\n",
       "    <tr>\n",
       "      <th>19</th>\n",
       "      <td>1</td>\n",
       "      <td>TRANSFER</td>\n",
       "      <td>215310.30</td>\n",
       "      <td>705.0</td>\n",
       "      <td>0.0</td>\n",
       "      <td>22425.0</td>\n",
       "      <td>0.00</td>\n",
       "      <td>0</td>\n",
       "      <td>0</td>\n",
       "    </tr>\n",
       "    <tr>\n",
       "      <th>24</th>\n",
       "      <td>1</td>\n",
       "      <td>TRANSFER</td>\n",
       "      <td>311685.89</td>\n",
       "      <td>10835.0</td>\n",
       "      <td>0.0</td>\n",
       "      <td>6267.0</td>\n",
       "      <td>2719172.89</td>\n",
       "      <td>0</td>\n",
       "      <td>0</td>\n",
       "    </tr>\n",
       "  </tbody>\n",
       "</table>\n",
       "</div>"
      ],
      "text/plain": [
       "    step      type     amount  oldbalanceOrg  newbalanceOrig  oldbalanceDest  \\\n",
       "2      1  TRANSFER     181.00          181.0             0.0             0.0   \n",
       "3      1  CASH_OUT     181.00          181.0             0.0         21182.0   \n",
       "15     1  CASH_OUT  229133.94        15325.0             0.0          5083.0   \n",
       "19     1  TRANSFER  215310.30          705.0             0.0         22425.0   \n",
       "24     1  TRANSFER  311685.89        10835.0             0.0          6267.0   \n",
       "\n",
       "    newbalanceDest  isFraud  isFlaggedFraud  \n",
       "2             0.00        1               0  \n",
       "3             0.00        1               0  \n",
       "15        51513.44        0               0  \n",
       "19            0.00        0               0  \n",
       "24      2719172.89        0               0  "
      ]
     },
     "execution_count": 103,
     "metadata": {},
     "output_type": "execute_result"
    }
   ],
   "source": [
    "# Removing unwanted columns\n",
    "X = X.drop(['nameDest', 'nameOrig'], axis=1)\n",
    "X.head()"
   ]
  },
  {
   "cell_type": "markdown",
   "metadata": {},
   "source": [
    "## Preprocessing and Feature Engineering"
   ]
  },
  {
   "cell_type": "code",
   "execution_count": 104,
   "metadata": {},
   "outputs": [
    {
     "data": {
      "text/plain": [
       "(2770409, 11)"
      ]
     },
     "execution_count": 104,
     "metadata": {},
     "output_type": "execute_result"
    }
   ],
   "source": [
    "# Adding new features to the dataset\n",
    "X['errorBalanceOrig'] = X.newbalanceOrig + X.amount - X.oldbalanceOrg\n",
    "X['errorBalanceDest'] = X.newbalanceDest + X.amount - X.oldbalanceDest\n",
    "X.shape"
   ]
  },
  {
   "cell_type": "code",
   "execution_count": 105,
   "metadata": {},
   "outputs": [],
   "source": [
    "# OneHotEncoding for categorical columns\n",
    "X[\"type\"].replace('TRANSFER', 0, inplace=True)\n",
    "X[\"type\"].replace('CASH_OUT', 1, inplace=True)"
   ]
  },
  {
   "cell_type": "code",
   "execution_count": 106,
   "metadata": {},
   "outputs": [
    {
     "data": {
      "text/html": [
       "<div>\n",
       "<style scoped>\n",
       "    .dataframe tbody tr th:only-of-type {\n",
       "        vertical-align: middle;\n",
       "    }\n",
       "\n",
       "    .dataframe tbody tr th {\n",
       "        vertical-align: top;\n",
       "    }\n",
       "\n",
       "    .dataframe thead th {\n",
       "        text-align: right;\n",
       "    }\n",
       "</style>\n",
       "<table border=\"1\" class=\"dataframe\">\n",
       "  <thead>\n",
       "    <tr style=\"text-align: right;\">\n",
       "      <th></th>\n",
       "      <th>step</th>\n",
       "      <th>type</th>\n",
       "      <th>amount</th>\n",
       "      <th>oldbalanceOrg</th>\n",
       "      <th>newbalanceOrig</th>\n",
       "      <th>oldbalanceDest</th>\n",
       "      <th>newbalanceDest</th>\n",
       "      <th>isFraud</th>\n",
       "      <th>isFlaggedFraud</th>\n",
       "      <th>errorBalanceOrig</th>\n",
       "      <th>errorBalanceDest</th>\n",
       "    </tr>\n",
       "  </thead>\n",
       "  <tbody>\n",
       "    <tr>\n",
       "      <th>2</th>\n",
       "      <td>1</td>\n",
       "      <td>0</td>\n",
       "      <td>181.00</td>\n",
       "      <td>181.00</td>\n",
       "      <td>0.0</td>\n",
       "      <td>0.0</td>\n",
       "      <td>0.00</td>\n",
       "      <td>1</td>\n",
       "      <td>0</td>\n",
       "      <td>0.00</td>\n",
       "      <td>181.00</td>\n",
       "    </tr>\n",
       "    <tr>\n",
       "      <th>3</th>\n",
       "      <td>1</td>\n",
       "      <td>1</td>\n",
       "      <td>181.00</td>\n",
       "      <td>181.00</td>\n",
       "      <td>0.0</td>\n",
       "      <td>21182.0</td>\n",
       "      <td>0.00</td>\n",
       "      <td>1</td>\n",
       "      <td>0</td>\n",
       "      <td>0.00</td>\n",
       "      <td>-21001.00</td>\n",
       "    </tr>\n",
       "    <tr>\n",
       "      <th>15</th>\n",
       "      <td>1</td>\n",
       "      <td>1</td>\n",
       "      <td>229133.94</td>\n",
       "      <td>15325.00</td>\n",
       "      <td>0.0</td>\n",
       "      <td>5083.0</td>\n",
       "      <td>51513.44</td>\n",
       "      <td>0</td>\n",
       "      <td>0</td>\n",
       "      <td>213808.94</td>\n",
       "      <td>275564.38</td>\n",
       "    </tr>\n",
       "    <tr>\n",
       "      <th>19</th>\n",
       "      <td>1</td>\n",
       "      <td>0</td>\n",
       "      <td>215310.30</td>\n",
       "      <td>705.00</td>\n",
       "      <td>0.0</td>\n",
       "      <td>22425.0</td>\n",
       "      <td>0.00</td>\n",
       "      <td>0</td>\n",
       "      <td>0</td>\n",
       "      <td>214605.30</td>\n",
       "      <td>192885.30</td>\n",
       "    </tr>\n",
       "    <tr>\n",
       "      <th>24</th>\n",
       "      <td>1</td>\n",
       "      <td>0</td>\n",
       "      <td>311685.89</td>\n",
       "      <td>10835.00</td>\n",
       "      <td>0.0</td>\n",
       "      <td>6267.0</td>\n",
       "      <td>2719172.89</td>\n",
       "      <td>0</td>\n",
       "      <td>0</td>\n",
       "      <td>300850.89</td>\n",
       "      <td>3024591.78</td>\n",
       "    </tr>\n",
       "    <tr>\n",
       "      <th>42</th>\n",
       "      <td>1</td>\n",
       "      <td>1</td>\n",
       "      <td>110414.71</td>\n",
       "      <td>26845.41</td>\n",
       "      <td>0.0</td>\n",
       "      <td>288800.0</td>\n",
       "      <td>2415.16</td>\n",
       "      <td>0</td>\n",
       "      <td>0</td>\n",
       "      <td>83569.30</td>\n",
       "      <td>-175970.13</td>\n",
       "    </tr>\n",
       "    <tr>\n",
       "      <th>47</th>\n",
       "      <td>1</td>\n",
       "      <td>1</td>\n",
       "      <td>56953.90</td>\n",
       "      <td>1942.02</td>\n",
       "      <td>0.0</td>\n",
       "      <td>70253.0</td>\n",
       "      <td>64106.18</td>\n",
       "      <td>0</td>\n",
       "      <td>0</td>\n",
       "      <td>55011.88</td>\n",
       "      <td>50807.08</td>\n",
       "    </tr>\n",
       "    <tr>\n",
       "      <th>48</th>\n",
       "      <td>1</td>\n",
       "      <td>1</td>\n",
       "      <td>5346.89</td>\n",
       "      <td>0.00</td>\n",
       "      <td>0.0</td>\n",
       "      <td>652637.0</td>\n",
       "      <td>6453430.91</td>\n",
       "      <td>0</td>\n",
       "      <td>0</td>\n",
       "      <td>5346.89</td>\n",
       "      <td>5806140.80</td>\n",
       "    </tr>\n",
       "    <tr>\n",
       "      <th>51</th>\n",
       "      <td>1</td>\n",
       "      <td>1</td>\n",
       "      <td>23261.30</td>\n",
       "      <td>20411.53</td>\n",
       "      <td>0.0</td>\n",
       "      <td>25742.0</td>\n",
       "      <td>0.00</td>\n",
       "      <td>0</td>\n",
       "      <td>0</td>\n",
       "      <td>2849.77</td>\n",
       "      <td>-2480.70</td>\n",
       "    </tr>\n",
       "    <tr>\n",
       "      <th>58</th>\n",
       "      <td>1</td>\n",
       "      <td>0</td>\n",
       "      <td>62610.80</td>\n",
       "      <td>79114.00</td>\n",
       "      <td>16503.2</td>\n",
       "      <td>517.0</td>\n",
       "      <td>8383.29</td>\n",
       "      <td>0</td>\n",
       "      <td>0</td>\n",
       "      <td>0.00</td>\n",
       "      <td>70477.09</td>\n",
       "    </tr>\n",
       "  </tbody>\n",
       "</table>\n",
       "</div>"
      ],
      "text/plain": [
       "    step  type     amount  oldbalanceOrg  newbalanceOrig  oldbalanceDest  \\\n",
       "2      1     0     181.00         181.00             0.0             0.0   \n",
       "3      1     1     181.00         181.00             0.0         21182.0   \n",
       "15     1     1  229133.94       15325.00             0.0          5083.0   \n",
       "19     1     0  215310.30         705.00             0.0         22425.0   \n",
       "24     1     0  311685.89       10835.00             0.0          6267.0   \n",
       "42     1     1  110414.71       26845.41             0.0        288800.0   \n",
       "47     1     1   56953.90        1942.02             0.0         70253.0   \n",
       "48     1     1    5346.89           0.00             0.0        652637.0   \n",
       "51     1     1   23261.30       20411.53             0.0         25742.0   \n",
       "58     1     0   62610.80       79114.00         16503.2           517.0   \n",
       "\n",
       "    newbalanceDest  isFraud  isFlaggedFraud  errorBalanceOrig  \\\n",
       "2             0.00        1               0              0.00   \n",
       "3             0.00        1               0              0.00   \n",
       "15        51513.44        0               0         213808.94   \n",
       "19            0.00        0               0         214605.30   \n",
       "24      2719172.89        0               0         300850.89   \n",
       "42         2415.16        0               0          83569.30   \n",
       "47        64106.18        0               0          55011.88   \n",
       "48      6453430.91        0               0           5346.89   \n",
       "51            0.00        0               0           2849.77   \n",
       "58         8383.29        0               0              0.00   \n",
       "\n",
       "    errorBalanceDest  \n",
       "2             181.00  \n",
       "3          -21001.00  \n",
       "15         275564.38  \n",
       "19         192885.30  \n",
       "24        3024591.78  \n",
       "42        -175970.13  \n",
       "47          50807.08  \n",
       "48        5806140.80  \n",
       "51          -2480.70  \n",
       "58          70477.09  "
      ]
     },
     "execution_count": 106,
     "metadata": {},
     "output_type": "execute_result"
    }
   ],
   "source": [
    "X.head(10)"
   ]
  },
  {
   "cell_type": "code",
   "execution_count": 107,
   "metadata": {},
   "outputs": [
    {
     "data": {
      "text/plain": [
       "0    2762196\n",
       "1       8213\n",
       "Name: isFraud, dtype: int64"
      ]
     },
     "execution_count": 107,
     "metadata": {},
     "output_type": "execute_result"
    }
   ],
   "source": [
    "# Checking the number of fraud cases in the new dataset(X)\n",
    "X[\"isFraud\"].value_counts()"
   ]
  },
  {
   "cell_type": "markdown",
   "metadata": {},
   "source": [
    "### Here we're taking isFraud as the target variable"
   ]
  },
  {
   "cell_type": "code",
   "execution_count": 108,
   "metadata": {},
   "outputs": [
    {
     "name": "stdout",
     "output_type": "stream",
     "text": [
      "Shape of X:  (2770409, 10)\n",
      "Shape of y:  (2770409,)\n"
     ]
    }
   ],
   "source": [
    "y = X[\"isFraud\"]\n",
    "\n",
    "X = X.drop(['isFraud'], axis=1) # Training set\n",
    "print(\"Shape of X: \", X.shape)\n",
    "print(\"Shape of y: \", y.shape)"
   ]
  },
  {
   "cell_type": "code",
   "execution_count": 109,
   "metadata": {},
   "outputs": [
    {
     "data": {
      "text/html": [
       "<div>\n",
       "<style scoped>\n",
       "    .dataframe tbody tr th:only-of-type {\n",
       "        vertical-align: middle;\n",
       "    }\n",
       "\n",
       "    .dataframe tbody tr th {\n",
       "        vertical-align: top;\n",
       "    }\n",
       "\n",
       "    .dataframe thead th {\n",
       "        text-align: right;\n",
       "    }\n",
       "</style>\n",
       "<table border=\"1\" class=\"dataframe\">\n",
       "  <thead>\n",
       "    <tr style=\"text-align: right;\">\n",
       "      <th></th>\n",
       "      <th>step</th>\n",
       "      <th>type</th>\n",
       "      <th>amount</th>\n",
       "      <th>oldbalanceOrg</th>\n",
       "      <th>newbalanceOrig</th>\n",
       "      <th>oldbalanceDest</th>\n",
       "      <th>newbalanceDest</th>\n",
       "      <th>isFlaggedFraud</th>\n",
       "      <th>errorBalanceOrig</th>\n",
       "      <th>errorBalanceDest</th>\n",
       "    </tr>\n",
       "  </thead>\n",
       "  <tbody>\n",
       "    <tr>\n",
       "      <th>2</th>\n",
       "      <td>1</td>\n",
       "      <td>0</td>\n",
       "      <td>181.00</td>\n",
       "      <td>181.0</td>\n",
       "      <td>0.0</td>\n",
       "      <td>0.0</td>\n",
       "      <td>0.00</td>\n",
       "      <td>0</td>\n",
       "      <td>0.00</td>\n",
       "      <td>181.00</td>\n",
       "    </tr>\n",
       "    <tr>\n",
       "      <th>3</th>\n",
       "      <td>1</td>\n",
       "      <td>1</td>\n",
       "      <td>181.00</td>\n",
       "      <td>181.0</td>\n",
       "      <td>0.0</td>\n",
       "      <td>21182.0</td>\n",
       "      <td>0.00</td>\n",
       "      <td>0</td>\n",
       "      <td>0.00</td>\n",
       "      <td>-21001.00</td>\n",
       "    </tr>\n",
       "    <tr>\n",
       "      <th>15</th>\n",
       "      <td>1</td>\n",
       "      <td>1</td>\n",
       "      <td>229133.94</td>\n",
       "      <td>15325.0</td>\n",
       "      <td>0.0</td>\n",
       "      <td>5083.0</td>\n",
       "      <td>51513.44</td>\n",
       "      <td>0</td>\n",
       "      <td>213808.94</td>\n",
       "      <td>275564.38</td>\n",
       "    </tr>\n",
       "    <tr>\n",
       "      <th>19</th>\n",
       "      <td>1</td>\n",
       "      <td>0</td>\n",
       "      <td>215310.30</td>\n",
       "      <td>705.0</td>\n",
       "      <td>0.0</td>\n",
       "      <td>22425.0</td>\n",
       "      <td>0.00</td>\n",
       "      <td>0</td>\n",
       "      <td>214605.30</td>\n",
       "      <td>192885.30</td>\n",
       "    </tr>\n",
       "    <tr>\n",
       "      <th>24</th>\n",
       "      <td>1</td>\n",
       "      <td>0</td>\n",
       "      <td>311685.89</td>\n",
       "      <td>10835.0</td>\n",
       "      <td>0.0</td>\n",
       "      <td>6267.0</td>\n",
       "      <td>2719172.89</td>\n",
       "      <td>0</td>\n",
       "      <td>300850.89</td>\n",
       "      <td>3024591.78</td>\n",
       "    </tr>\n",
       "  </tbody>\n",
       "</table>\n",
       "</div>"
      ],
      "text/plain": [
       "    step  type     amount  oldbalanceOrg  newbalanceOrig  oldbalanceDest  \\\n",
       "2      1     0     181.00          181.0             0.0             0.0   \n",
       "3      1     1     181.00          181.0             0.0         21182.0   \n",
       "15     1     1  229133.94        15325.0             0.0          5083.0   \n",
       "19     1     0  215310.30          705.0             0.0         22425.0   \n",
       "24     1     0  311685.89        10835.0             0.0          6267.0   \n",
       "\n",
       "    newbalanceDest  isFlaggedFraud  errorBalanceOrig  errorBalanceDest  \n",
       "2             0.00               0              0.00            181.00  \n",
       "3             0.00               0              0.00         -21001.00  \n",
       "15        51513.44               0         213808.94         275564.38  \n",
       "19            0.00               0         214605.30         192885.30  \n",
       "24      2719172.89               0         300850.89        3024591.78  "
      ]
     },
     "execution_count": 109,
     "metadata": {},
     "output_type": "execute_result"
    }
   ],
   "source": [
    "X.head() # training set"
   ]
  },
  {
   "cell_type": "code",
   "execution_count": 110,
   "metadata": {},
   "outputs": [
    {
     "data": {
      "text/plain": [
       "2     1\n",
       "3     1\n",
       "15    0\n",
       "19    0\n",
       "24    0\n",
       "Name: isFraud, dtype: int64"
      ]
     },
     "execution_count": 110,
     "metadata": {},
     "output_type": "execute_result"
    }
   ],
   "source": [
    "y.head()"
   ]
  },
  {
   "cell_type": "markdown",
   "metadata": {},
   "source": [
    "### Applying SMOTE for balanced datasets"
   ]
  },
  {
   "cell_type": "code",
   "execution_count": 117,
   "metadata": {},
   "outputs": [
    {
     "name": "stdout",
     "output_type": "stream",
     "text": [
      "Shape of X:  (5524392, 10)\n",
      "Shape of Y: (5524392,)\n"
     ]
    }
   ],
   "source": [
    "from imblearn.over_sampling import SMOTE\n",
    "method = SMOTE()\n",
    "X_resampled, y_resampled = method.fit_resample(X,y)\n",
    "print(\"Shape of X: \", X_resampled.shape)\n",
    "print(\"Shape of Y:\", y_resampled.shape)"
   ]
  },
  {
   "cell_type": "code",
   "execution_count": 118,
   "metadata": {},
   "outputs": [],
   "source": [
    "# Spliting the datasets into train and tests\n",
    "from sklearn.model_selection import train_test_split\n",
    "x_train, x_test, y_train, y_test = train_test_split(X_resampled, y_resampled, test_size = 0.2, random_state=42)"
   ]
  },
  {
   "cell_type": "code",
   "execution_count": 120,
   "metadata": {},
   "outputs": [
    {
     "name": "stdout",
     "output_type": "stream",
     "text": [
      "Shape of x_train:  (4419513, 10)\n",
      "Shape of y_train:  (4419513,)\n",
      "\n",
      "Shape of x_test:  (1104879, 10)\n",
      "Shape of y_test:  (1104879,)\n"
     ]
    }
   ],
   "source": [
    "print(\"Shape of x_train: \", x_train.shape)\n",
    "print(\"Shape of y_train: \", y_train.shape)\n",
    "\n",
    "print(\"\\nShape of x_test: \", x_test.shape)\n",
    "print(\"Shape of y_test: \", y_test.shape)"
   ]
  },
  {
   "cell_type": "code",
   "execution_count": 122,
   "metadata": {},
   "outputs": [],
   "source": [
    "from sklearn.preprocessing import StandardScaler\n",
    "\n",
    "sc = StandardScaler()\n",
    "x_train = sc.fit_transform(x_train)\n",
    "x_test = sc.fit_transform(x_test)"
   ]
  },
  {
   "cell_type": "markdown",
   "metadata": {},
   "source": [
    "### Building XGBoost model for prediction"
   ]
  },
  {
   "cell_type": "code",
   "execution_count": 123,
   "metadata": {},
   "outputs": [],
   "source": [
    "from xgboost import XGBRegressor\n",
    "model = XGBRegressor(random_state = 42, n_jobs =1, n_estimators=20, max_depth=2)"
   ]
  },
  {
   "cell_type": "code",
   "execution_count": 124,
   "metadata": {},
   "outputs": [
    {
     "data": {
      "text/plain": [
       "XGBRegressor(base_score=0.5, booster='gbtree', colsample_bylevel=1,\n",
       "             colsample_bynode=1, colsample_bytree=1, enable_categorical=False,\n",
       "             gamma=0, gpu_id=-1, importance_type=None,\n",
       "             interaction_constraints='', learning_rate=0.300000012,\n",
       "             max_delta_step=0, max_depth=2, min_child_weight=1, missing=nan,\n",
       "             monotone_constraints='()', n_estimators=20, n_jobs=1,\n",
       "             num_parallel_tree=1, predictor='auto', random_state=42,\n",
       "             reg_alpha=0, reg_lambda=1, scale_pos_weight=1, subsample=1,\n",
       "             tree_method='approx', validate_parameters=1, verbosity=None)"
      ]
     },
     "execution_count": 124,
     "metadata": {},
     "output_type": "execute_result"
    }
   ],
   "source": [
    "model.fit(x_train, y_train)"
   ]
  },
  {
   "cell_type": "code",
   "execution_count": 127,
   "metadata": {},
   "outputs": [
    {
     "data": {
      "text/plain": [
       "array([1.0042577 , 1.0042577 , 0.0059003 , ..., 0.9861372 , 0.9861372 ,\n",
       "       0.00952817], dtype=float32)"
      ]
     },
     "execution_count": 127,
     "metadata": {},
     "output_type": "execute_result"
    }
   ],
   "source": [
    "x_preds = model.predict(x_train)\n",
    "x_preds"
   ]
  },
  {
   "cell_type": "code",
   "execution_count": 139,
   "metadata": {},
   "outputs": [
    {
     "name": "stdout",
     "output_type": "stream",
     "text": [
      "The area under the precision recall curve score for x_train is:  0.999171724897366\n"
     ]
    }
   ],
   "source": [
    "from sklearn.metrics import average_precision_score\n",
    "avgps = average_precision_score(y_train, x_preds)\n",
    "print(\"The area under the precision recall curve score for x_train is: \", avgps)"
   ]
  },
  {
   "cell_type": "code",
   "execution_count": 142,
   "metadata": {},
   "outputs": [
    {
     "name": "stdout",
     "output_type": "stream",
     "text": [
      "The Area under Precision Recall Curve Score For y_train is 0.7793884261843753\n"
     ]
    }
   ],
   "source": [
    "y_preds = model.predict(x_test)\n",
    "auprc = average_precision_score(y_test, y_preds)\n",
    "print(\"The Area under Precision Recall Curve Score For y_train is\", auprc)"
   ]
  },
  {
   "cell_type": "code",
   "execution_count": 143,
   "metadata": {},
   "outputs": [
    {
     "data": {
      "text/plain": [
       "Index(['step', 'type', 'amount', 'oldbalanceOrg', 'newbalanceOrig',\n",
       "       'oldbalanceDest', 'newbalanceDest', 'isFlaggedFraud',\n",
       "       'errorBalanceOrig', 'errorBalanceDest'],\n",
       "      dtype='object')"
      ]
     },
     "execution_count": 143,
     "metadata": {},
     "output_type": "execute_result"
    }
   ],
   "source": [
    "X.columns"
   ]
  },
  {
   "cell_type": "markdown",
   "metadata": {},
   "source": [
    "## Feature Importance"
   ]
  },
  {
   "cell_type": "code",
   "execution_count": 155,
   "metadata": {},
   "outputs": [],
   "source": [
    "importance_df = pd.DataFrame({\n",
    "    'feature': X.columns,\n",
    "    'importance': model.feature_importances_\n",
    "    }).sort_values('importance', ascending=False)"
   ]
  },
  {
   "cell_type": "code",
   "execution_count": 158,
   "metadata": {},
   "outputs": [
    {
     "data": {
      "text/html": [
       "<div>\n",
       "<style scoped>\n",
       "    .dataframe tbody tr th:only-of-type {\n",
       "        vertical-align: middle;\n",
       "    }\n",
       "\n",
       "    .dataframe tbody tr th {\n",
       "        vertical-align: top;\n",
       "    }\n",
       "\n",
       "    .dataframe thead th {\n",
       "        text-align: right;\n",
       "    }\n",
       "</style>\n",
       "<table border=\"1\" class=\"dataframe\">\n",
       "  <thead>\n",
       "    <tr style=\"text-align: right;\">\n",
       "      <th></th>\n",
       "      <th>feature</th>\n",
       "      <th>importance</th>\n",
       "    </tr>\n",
       "  </thead>\n",
       "  <tbody>\n",
       "    <tr>\n",
       "      <th>8</th>\n",
       "      <td>errorBalanceOrig</td>\n",
       "      <td>0.790254</td>\n",
       "    </tr>\n",
       "    <tr>\n",
       "      <th>4</th>\n",
       "      <td>newbalanceOrig</td>\n",
       "      <td>0.129059</td>\n",
       "    </tr>\n",
       "    <tr>\n",
       "      <th>6</th>\n",
       "      <td>newbalanceDest</td>\n",
       "      <td>0.048466</td>\n",
       "    </tr>\n",
       "    <tr>\n",
       "      <th>2</th>\n",
       "      <td>amount</td>\n",
       "      <td>0.020222</td>\n",
       "    </tr>\n",
       "    <tr>\n",
       "      <th>3</th>\n",
       "      <td>oldbalanceOrg</td>\n",
       "      <td>0.009734</td>\n",
       "    </tr>\n",
       "    <tr>\n",
       "      <th>9</th>\n",
       "      <td>errorBalanceDest</td>\n",
       "      <td>0.001901</td>\n",
       "    </tr>\n",
       "    <tr>\n",
       "      <th>0</th>\n",
       "      <td>step</td>\n",
       "      <td>0.000364</td>\n",
       "    </tr>\n",
       "    <tr>\n",
       "      <th>1</th>\n",
       "      <td>type</td>\n",
       "      <td>0.000000</td>\n",
       "    </tr>\n",
       "    <tr>\n",
       "      <th>5</th>\n",
       "      <td>oldbalanceDest</td>\n",
       "      <td>0.000000</td>\n",
       "    </tr>\n",
       "    <tr>\n",
       "      <th>7</th>\n",
       "      <td>isFlaggedFraud</td>\n",
       "      <td>0.000000</td>\n",
       "    </tr>\n",
       "  </tbody>\n",
       "</table>\n",
       "</div>"
      ],
      "text/plain": [
       "            feature  importance\n",
       "8  errorBalanceOrig    0.790254\n",
       "4    newbalanceOrig    0.129059\n",
       "6    newbalanceDest    0.048466\n",
       "2            amount    0.020222\n",
       "3     oldbalanceOrg    0.009734\n",
       "9  errorBalanceDest    0.001901\n",
       "0              step    0.000364\n",
       "1              type    0.000000\n",
       "5    oldbalanceDest    0.000000\n",
       "7    isFlaggedFraud    0.000000"
      ]
     },
     "execution_count": 158,
     "metadata": {},
     "output_type": "execute_result"
    }
   ],
   "source": [
    "importance_df.head(10)"
   ]
  },
  {
   "cell_type": "code",
   "execution_count": 159,
   "metadata": {},
   "outputs": [
    {
     "data": {
      "text/plain": [
       "<AxesSubplot:title={'center':'Feature Importance'}, xlabel='importance', ylabel='feature'>"
      ]
     },
     "execution_count": 159,
     "metadata": {},
     "output_type": "execute_result"
    },
    {
     "data": {
      "image/png": "[encoded data removed]",
      "text/plain": [
       "<Figure size 720x432 with 1 Axes>"
      ]
     },
     "metadata": {
      "needs_background": "light"
     },
     "output_type": "display_data"
    }
   ],
   "source": [
    "plt.figure(figsize=(10,6))\n",
    "plt.title(\"Feature Importance\")\n",
    "sns.barplot(data= importance_df.head(10),x= 'importance', y='feature')"
   ]
  },
  {
   "cell_type": "markdown",
   "metadata": {},
   "source": [
    "## From observing the feature importance table we can conclude the most important features is errorBalanceOrig"
   ]
  },
  {
   "cell_type": "code",
   "execution_count": 160,
   "metadata": {},
   "outputs": [
    {
     "name": "stdout",
     "output_type": "stream",
     "text": [
      "0.5061124340312378\n"
     ]
    }
   ],
   "source": [
    "# comparing actual outcomes vs predicted outcomes\n",
    "from sklearn.metrics import accuracy_score\n",
    "y_pred = (y_preds > 0.5)\n",
    "\n",
    "accuracy = accuracy_score(y_test, y_pred)\n",
    "print(accuracy)"
   ]
  },
  {
   "cell_type": "markdown",
   "metadata": {},
   "source": [
    "## Implementing logistic regression also"
   ]
  },
  {
   "cell_type": "code",
   "execution_count": 162,
   "metadata": {},
   "outputs": [
    {
     "data": {
      "text/plain": [
       "LogisticRegression(solver='liblinear')"
      ]
     },
     "execution_count": 162,
     "metadata": {},
     "output_type": "execute_result"
    }
   ],
   "source": [
    "# Fit a logistic regression model to our data\n",
    "from sklearn.linear_model import LogisticRegression\n",
    "\n",
    "model = LogisticRegression(solver='liblinear')\n",
    "model.fit(x_train, y_train)"
   ]
  },
  {
   "cell_type": "code",
   "execution_count": 163,
   "metadata": {},
   "outputs": [],
   "source": [
    "# obtain model predictions\n",
    "predictions = model.predict(x_test)"
   ]
  },
  {
   "cell_type": "code",
   "execution_count": 164,
   "metadata": {},
   "outputs": [
    {
     "name": "stdout",
     "output_type": "stream",
     "text": [
      "Classificaiton Report:\n",
      "               precision    recall  f1-score   support\n",
      "\n",
      "           0       0.95      0.95      0.95    551906\n",
      "           1       0.95      0.95      0.95    552973\n",
      "\n",
      "    accuracy                           0.95   1104879\n",
      "   macro avg       0.95      0.95      0.95   1104879\n",
      "weighted avg       0.95      0.95      0.95   1104879\n",
      "\n",
      "Confusion Matrix:\n",
      " [[524044  27862]\n",
      " [ 29675 523298]]\n"
     ]
    }
   ],
   "source": [
    "# printing classification report and confusion matrix\n",
    "from sklearn.metrics import r2_score, confusion_matrix, classification_report, accuracy_score, roc_auc_score, roc_curve, precision_recall_curve, average_precision_score\n",
    "\n",
    "print(\"Classificaiton Report:\\n\", classification_report(y_test, predictions))\n",
    "confusion_matrix = confusion_matrix(y_test, predictions)\n",
    "print(\"Confusion Matrix:\\n\", confusion_matrix)"
   ]
  },
  {
   "cell_type": "code",
   "execution_count": 165,
   "metadata": {},
   "outputs": [
    {
     "data": {
      "text/plain": [
       "0.9479246143695373"
      ]
     },
     "execution_count": 165,
     "metadata": {},
     "output_type": "execute_result"
    }
   ],
   "source": [
    "accuracy_logistic = accuracy_score(y_test, predictions)\n",
    "accuracy_logistic"
   ]
  },
  {
   "cell_type": "markdown",
   "metadata": {},
   "source": [
    "## Comparing the accuracy score of the above two models (XGBoost & Logistic Regression) we can conclude that accuracy of Logistic Model is highest"
   ]
  },
  {
   "cell_type": "markdown",
   "metadata": {},
   "source": []
  }
 ],
 "metadata": {
  "interpreter": {
   "hash": "576f955f7e2b7bfdf6ea3f1f7f800309be070ccfac8fe2b07f5a380f5efa9341"
  },
  "kernelspec": {
   "display_name": "Python 3.8.3 ('kaggle')",
   "language": "python",
   "name": "python3"
  },
  "language_info": {
   "codemirror_mode": {
    "name": "ipython",
    "version": 3
   },
   "file_extension": ".py",
   "mimetype": "text/x-python",
   "name": "python",
   "nbconvert_exporter": "python",
   "pygments_lexer": "ipython3",
   "version": "3.10.0"
  },
  "orig_nbformat": 4
 },
 "nbformat": 4,
 "nbformat_minor": 2
}
